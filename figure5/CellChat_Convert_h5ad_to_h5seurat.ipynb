{
 "cells": [
  {
   "cell_type": "code",
   "execution_count": 1,
   "metadata": {},
   "outputs": [
    {
     "name": "stderr",
     "output_type": "stream",
     "text": [
      "Registered S3 method overwritten by 'spatstat.geom':\n",
      "  method     from\n",
      "  print.boxx cli \n",
      "\n",
      "Registered S3 method overwritten by 'SeuratDisk':\n",
      "  method            from  \n",
      "  as.sparse.H5Group Seurat\n",
      "\n"
     ]
    }
   ],
   "source": [
    "library(SeuratDisk)"
   ]
  },
  {
   "cell_type": "code",
   "execution_count": 2,
   "metadata": {},
   "outputs": [
    {
     "name": "stderr",
     "output_type": "stream",
     "text": [
      "Attaching SeuratObject\n",
      "\n"
     ]
    }
   ],
   "source": [
    "library(Seurat)\n",
    "library(SeuratDisk)"
   ]
  },
  {
   "cell_type": "code",
   "execution_count": 13,
   "metadata": {},
   "outputs": [
    {
     "name": "stderr",
     "output_type": "stream",
     "text": [
      "Warning message:\n",
      "“Unknown file type: h5ad”\n",
      "Warning message:\n",
      "“'assay' not set, setting to 'RNA'”\n",
      "Creating h5Seurat file for version 3.1.5.9900\n",
      "\n",
      "Adding X as data\n",
      "\n",
      "Adding X as counts\n",
      "\n",
      "Adding meta.features from var\n",
      "\n",
      "Adding X_harmony as cell embeddings for harmony\n",
      "\n",
      "Adding X_pca as cell embeddings for pca\n",
      "\n",
      "Adding X_threeD_umap as cell embeddings for threeD_umap\n",
      "\n",
      "Adding X_umap as cell embeddings for umap\n",
      "\n"
     ]
    }
   ],
   "source": [
    "Convert(\"/rds/general/user/snb20/projects/cardiac_single_cell_biology/live/sanger_covid19_snRNAseq/lung/lung_v2/object_anno/global_annotated_object_raw_nodoublets.h5ad\", dest = \"h5seurat\", overwrite = TRUE)"
   ]
  },
  {
   "cell_type": "code",
   "execution_count": 14,
   "metadata": {},
   "outputs": [
    {
     "name": "stderr",
     "output_type": "stream",
     "text": [
      "Validating h5Seurat file\n",
      "\n",
      "Initializing RNA with data\n",
      "\n",
      "Adding counts for RNA\n",
      "\n",
      "Adding feature-level metadata for RNA\n",
      "\n",
      "Adding reduction harmony\n",
      "\n",
      "Adding cell embeddings for harmony\n",
      "\n",
      "Adding miscellaneous information for harmony\n",
      "\n",
      "Adding reduction pca\n",
      "\n",
      "Adding cell embeddings for pca\n",
      "\n",
      "Adding miscellaneous information for pca\n",
      "\n",
      "Adding reduction threeD_umap\n",
      "\n",
      "Adding cell embeddings for threeD_umap\n",
      "\n",
      "Warning message:\n",
      "“Keys should be one or more alphanumeric characters followed by an underscore, setting key from threeD_umap_ to threeDumap_”\n",
      "Warning message:\n",
      "“All keys should be one or more alphanumeric characters followed by an underscore '_', setting key to threeDumap_”\n",
      "Adding miscellaneous information for threeD_umap\n",
      "\n",
      "Adding reduction umap\n",
      "\n",
      "Adding cell embeddings for umap\n",
      "\n",
      "Adding miscellaneous information for umap\n",
      "\n",
      "Adding command information\n",
      "\n",
      "Adding tool-specific results\n",
      "\n"
     ]
    }
   ],
   "source": [
    "cellchat <- LoadH5Seurat(\"/rds/general/user/snb20/projects/cardiac_single_cell_biology/live/sanger_covid19_snRNAseq/lung/lung_v2/object_anno/global_annotated_object_raw_nodoublets.h5seurat\", meta.data = FALSE, misc = FALSE)"
   ]
  },
  {
   "cell_type": "code",
   "execution_count": 15,
   "metadata": {},
   "outputs": [
    {
     "data": {
      "text/plain": [
       "An object of class Seurat \n",
       "34091 features across 514756 samples within 1 assay \n",
       "Active assay: RNA (34091 features, 0 variable features)\n",
       " 4 dimensional reductions calculated: harmony, pca, threeD_umap, umap"
      ]
     },
     "metadata": {},
     "output_type": "display_data"
    }
   ],
   "source": [
    "cellchat"
   ]
  },
  {
   "cell_type": "code",
   "execution_count": 16,
   "metadata": {},
   "outputs": [],
   "source": [
    "meta.data <- read.csv('/rds/general/user/snb20/projects/cardiac_single_cell_biology/live/sanger_covid19_snRNAseq/lung/lung_v2/object_anno/global_annotated_object_raw_nodoublets.obs.csv', row.names=1)"
   ]
  },
  {
   "cell_type": "code",
   "execution_count": 17,
   "metadata": {},
   "outputs": [],
   "source": [
    "meta.data <- data.frame(meta.data)"
   ]
  },
  {
   "cell_type": "code",
   "execution_count": 18,
   "metadata": {},
   "outputs": [],
   "source": [
    "cellchat@meta.data <- meta.data"
   ]
  },
  {
   "cell_type": "code",
   "execution_count": 19,
   "metadata": {},
   "outputs": [
    {
     "data": {
      "text/html": [
       "<table class=\"dataframe\">\n",
       "<caption>A data.frame: 6 × 38</caption>\n",
       "<thead>\n",
       "\t<tr><th></th><th scope=col>nCount_RNA</th><th scope=col>nFeature_RNA</th><th scope=col>cell.id</th><th scope=col>study.batch</th><th scope=col>donor</th><th scope=col>samples</th><th scope=col>sex</th><th scope=col>age</th><th scope=col>ethnicity</th><th scope=col>smoking_status</th><th scope=col>⋯</th><th scope=col>scrublet.predicted_db_samples</th><th scope=col>scDblFinder.score_samples</th><th scope=col>scDblFinder.predicted_db_samples</th><th scope=col>nCount_SCT</th><th scope=col>nFeature_SCT</th><th scope=col>cell_type_mid</th><th scope=col>cell_id</th><th scope=col>hca_anno_merged</th><th scope=col>cell_type</th><th scope=col>cell_state</th></tr>\n",
       "\t<tr><th></th><th scope=col>&lt;dbl&gt;</th><th scope=col>&lt;int&gt;</th><th scope=col>&lt;chr&gt;</th><th scope=col>&lt;chr&gt;</th><th scope=col>&lt;chr&gt;</th><th scope=col>&lt;chr&gt;</th><th scope=col>&lt;chr&gt;</th><th scope=col>&lt;chr&gt;</th><th scope=col>&lt;chr&gt;</th><th scope=col>&lt;chr&gt;</th><th scope=col>⋯</th><th scope=col>&lt;int&gt;</th><th scope=col>&lt;dbl&gt;</th><th scope=col>&lt;chr&gt;</th><th scope=col>&lt;int&gt;</th><th scope=col>&lt;int&gt;</th><th scope=col>&lt;chr&gt;</th><th scope=col>&lt;chr&gt;</th><th scope=col>&lt;chr&gt;</th><th scope=col>&lt;chr&gt;</th><th scope=col>&lt;chr&gt;</th></tr>\n",
       "</thead>\n",
       "<tbody>\n",
       "\t<tr><th scope=row>HD66_AAACCTGAGACCTTTG_1_1</th><td> 7022</td><td>1570</td><td>HD66_AAACCTGAGACCTTTG_1_1</td><td>Habermann_2020</td><td>VUHDgg</td><td>VUHD66</td><td>Male</td><td>30</td><td>White</td><td>Prior</td><td>⋯</td><td>0</td><td>0.0024381077</td><td>singlet</td><td>3076</td><td>1313</td><td>AT2                </td><td>HD66_AAACCTGAGACCTTTG_1_1</td><td>AT2                </td><td>AT2                </td><td>EP.AT2                 </td></tr>\n",
       "\t<tr><th scope=row>HD66_AAACCTGAGAGATGAG_1_1</th><td>12220</td><td>2982</td><td>HD66_AAACCTGAGAGATGAG_1_1</td><td>Habermann_2020</td><td>VUHDgg</td><td>VUHD66</td><td>Male</td><td>30</td><td>White</td><td>Prior</td><td>⋯</td><td>0</td><td>0.0029319755</td><td>singlet</td><td>2578</td><td>1170</td><td>AT2                </td><td>HD66_AAACCTGAGAGATGAG_1_1</td><td>AT2                </td><td>AT2                </td><td>EP.AT2                 </td></tr>\n",
       "\t<tr><th scope=row>HD66_AAACCTGAGGCACATG_1_1</th><td> 2801</td><td>1226</td><td>HD66_AAACCTGAGGCACATG_1_1</td><td>Habermann_2020</td><td>VUHDgg</td><td>VUHD66</td><td>Male</td><td>30</td><td>White</td><td>Prior</td><td>⋯</td><td>0</td><td>0.0004318426</td><td>singlet</td><td>2905</td><td>1226</td><td>Monocyte/Macrophage</td><td>HD66_AAACCTGAGGCACATG_1_1</td><td>Macro_intravascular</td><td>Monocyte.Macrophage</td><td>MYE.Monocyte           </td></tr>\n",
       "\t<tr><th scope=row>HD66_AAACCTGCAACTTGAC_1_1</th><td> 3347</td><td>1566</td><td>HD66_AAACCTGCAACTTGAC_1_1</td><td>Habermann_2020</td><td>VUHDgg</td><td>VUHD66</td><td>Male</td><td>30</td><td>White</td><td>Prior</td><td>⋯</td><td>0</td><td>0.0014188341</td><td>singlet</td><td>3158</td><td>1566</td><td>AT1                </td><td>HD66_AAACCTGCAACTTGAC_1_1</td><td>AT1                </td><td>AT1                </td><td>EP.AT1                 </td></tr>\n",
       "\t<tr><th scope=row>HD66_AAACCTGGTACTCTCC_1_1</th><td>11515</td><td>4232</td><td>HD66_AAACCTGGTACTCTCC_1_1</td><td>Habermann_2020</td><td>VUHDgg</td><td>VUHD66</td><td>Male</td><td>30</td><td>White</td><td>Prior</td><td>⋯</td><td>0</td><td>0.4371041954</td><td>singlet</td><td>3628</td><td>2171</td><td>Ciliated           </td><td>HD66_AAACCTGGTACTCTCC_1_1</td><td>Ciliated           </td><td>Ciliated           </td><td>EP.Ciliated            </td></tr>\n",
       "\t<tr><th scope=row>HD66_AAACCTGGTAGTACCT_1_1</th><td>36638</td><td>4249</td><td>HD66_AAACCTGGTAGTACCT_1_1</td><td>Habermann_2020</td><td>VUHDgg</td><td>VUHD66</td><td>Male</td><td>30</td><td>White</td><td>Prior</td><td>⋯</td><td>0</td><td>0.0126418537</td><td>singlet</td><td>2091</td><td>1151</td><td>Monocyte/Macrophage</td><td>HD66_AAACCTGGTAGTACCT_1_1</td><td>Macro_alveolar     </td><td>Monocyte.Macrophage</td><td>MYE.Macrophage.Alveolar</td></tr>\n",
       "</tbody>\n",
       "</table>\n"
      ],
      "text/latex": [
       "A data.frame: 6 × 38\n",
       "\\begin{tabular}{r|lllllllllllllllllllll}\n",
       "  & nCount\\_RNA & nFeature\\_RNA & cell.id & study.batch & donor & samples & sex & age & ethnicity & smoking\\_status & ⋯ & scrublet.predicted\\_db\\_samples & scDblFinder.score\\_samples & scDblFinder.predicted\\_db\\_samples & nCount\\_SCT & nFeature\\_SCT & cell\\_type\\_mid & cell\\_id & hca\\_anno\\_merged & cell\\_type & cell\\_state\\\\\n",
       "  & <dbl> & <int> & <chr> & <chr> & <chr> & <chr> & <chr> & <chr> & <chr> & <chr> & ⋯ & <int> & <dbl> & <chr> & <int> & <int> & <chr> & <chr> & <chr> & <chr> & <chr>\\\\\n",
       "\\hline\n",
       "\tHD66\\_AAACCTGAGACCTTTG\\_1\\_1 &  7022 & 1570 & HD66\\_AAACCTGAGACCTTTG\\_1\\_1 & Habermann\\_2020 & VUHDgg & VUHD66 & Male & 30 & White & Prior & ⋯ & 0 & 0.0024381077 & singlet & 3076 & 1313 & AT2                 & HD66\\_AAACCTGAGACCTTTG\\_1\\_1 & AT2                 & AT2                 & EP.AT2                 \\\\\n",
       "\tHD66\\_AAACCTGAGAGATGAG\\_1\\_1 & 12220 & 2982 & HD66\\_AAACCTGAGAGATGAG\\_1\\_1 & Habermann\\_2020 & VUHDgg & VUHD66 & Male & 30 & White & Prior & ⋯ & 0 & 0.0029319755 & singlet & 2578 & 1170 & AT2                 & HD66\\_AAACCTGAGAGATGAG\\_1\\_1 & AT2                 & AT2                 & EP.AT2                 \\\\\n",
       "\tHD66\\_AAACCTGAGGCACATG\\_1\\_1 &  2801 & 1226 & HD66\\_AAACCTGAGGCACATG\\_1\\_1 & Habermann\\_2020 & VUHDgg & VUHD66 & Male & 30 & White & Prior & ⋯ & 0 & 0.0004318426 & singlet & 2905 & 1226 & Monocyte/Macrophage & HD66\\_AAACCTGAGGCACATG\\_1\\_1 & Macro\\_intravascular & Monocyte.Macrophage & MYE.Monocyte           \\\\\n",
       "\tHD66\\_AAACCTGCAACTTGAC\\_1\\_1 &  3347 & 1566 & HD66\\_AAACCTGCAACTTGAC\\_1\\_1 & Habermann\\_2020 & VUHDgg & VUHD66 & Male & 30 & White & Prior & ⋯ & 0 & 0.0014188341 & singlet & 3158 & 1566 & AT1                 & HD66\\_AAACCTGCAACTTGAC\\_1\\_1 & AT1                 & AT1                 & EP.AT1                 \\\\\n",
       "\tHD66\\_AAACCTGGTACTCTCC\\_1\\_1 & 11515 & 4232 & HD66\\_AAACCTGGTACTCTCC\\_1\\_1 & Habermann\\_2020 & VUHDgg & VUHD66 & Male & 30 & White & Prior & ⋯ & 0 & 0.4371041954 & singlet & 3628 & 2171 & Ciliated            & HD66\\_AAACCTGGTACTCTCC\\_1\\_1 & Ciliated            & Ciliated            & EP.Ciliated            \\\\\n",
       "\tHD66\\_AAACCTGGTAGTACCT\\_1\\_1 & 36638 & 4249 & HD66\\_AAACCTGGTAGTACCT\\_1\\_1 & Habermann\\_2020 & VUHDgg & VUHD66 & Male & 30 & White & Prior & ⋯ & 0 & 0.0126418537 & singlet & 2091 & 1151 & Monocyte/Macrophage & HD66\\_AAACCTGGTAGTACCT\\_1\\_1 & Macro\\_alveolar      & Monocyte.Macrophage & MYE.Macrophage.Alveolar\\\\\n",
       "\\end{tabular}\n"
      ],
      "text/markdown": [
       "\n",
       "A data.frame: 6 × 38\n",
       "\n",
       "| <!--/--> | nCount_RNA &lt;dbl&gt; | nFeature_RNA &lt;int&gt; | cell.id &lt;chr&gt; | study.batch &lt;chr&gt; | donor &lt;chr&gt; | samples &lt;chr&gt; | sex &lt;chr&gt; | age &lt;chr&gt; | ethnicity &lt;chr&gt; | smoking_status &lt;chr&gt; | ⋯ ⋯ | scrublet.predicted_db_samples &lt;int&gt; | scDblFinder.score_samples &lt;dbl&gt; | scDblFinder.predicted_db_samples &lt;chr&gt; | nCount_SCT &lt;int&gt; | nFeature_SCT &lt;int&gt; | cell_type_mid &lt;chr&gt; | cell_id &lt;chr&gt; | hca_anno_merged &lt;chr&gt; | cell_type &lt;chr&gt; | cell_state &lt;chr&gt; |\n",
       "|---|---|---|---|---|---|---|---|---|---|---|---|---|---|---|---|---|---|---|---|---|---|\n",
       "| HD66_AAACCTGAGACCTTTG_1_1 |  7022 | 1570 | HD66_AAACCTGAGACCTTTG_1_1 | Habermann_2020 | VUHDgg | VUHD66 | Male | 30 | White | Prior | ⋯ | 0 | 0.0024381077 | singlet | 3076 | 1313 | AT2                 | HD66_AAACCTGAGACCTTTG_1_1 | AT2                 | AT2                 | EP.AT2                  |\n",
       "| HD66_AAACCTGAGAGATGAG_1_1 | 12220 | 2982 | HD66_AAACCTGAGAGATGAG_1_1 | Habermann_2020 | VUHDgg | VUHD66 | Male | 30 | White | Prior | ⋯ | 0 | 0.0029319755 | singlet | 2578 | 1170 | AT2                 | HD66_AAACCTGAGAGATGAG_1_1 | AT2                 | AT2                 | EP.AT2                  |\n",
       "| HD66_AAACCTGAGGCACATG_1_1 |  2801 | 1226 | HD66_AAACCTGAGGCACATG_1_1 | Habermann_2020 | VUHDgg | VUHD66 | Male | 30 | White | Prior | ⋯ | 0 | 0.0004318426 | singlet | 2905 | 1226 | Monocyte/Macrophage | HD66_AAACCTGAGGCACATG_1_1 | Macro_intravascular | Monocyte.Macrophage | MYE.Monocyte            |\n",
       "| HD66_AAACCTGCAACTTGAC_1_1 |  3347 | 1566 | HD66_AAACCTGCAACTTGAC_1_1 | Habermann_2020 | VUHDgg | VUHD66 | Male | 30 | White | Prior | ⋯ | 0 | 0.0014188341 | singlet | 3158 | 1566 | AT1                 | HD66_AAACCTGCAACTTGAC_1_1 | AT1                 | AT1                 | EP.AT1                  |\n",
       "| HD66_AAACCTGGTACTCTCC_1_1 | 11515 | 4232 | HD66_AAACCTGGTACTCTCC_1_1 | Habermann_2020 | VUHDgg | VUHD66 | Male | 30 | White | Prior | ⋯ | 0 | 0.4371041954 | singlet | 3628 | 2171 | Ciliated            | HD66_AAACCTGGTACTCTCC_1_1 | Ciliated            | Ciliated            | EP.Ciliated             |\n",
       "| HD66_AAACCTGGTAGTACCT_1_1 | 36638 | 4249 | HD66_AAACCTGGTAGTACCT_1_1 | Habermann_2020 | VUHDgg | VUHD66 | Male | 30 | White | Prior | ⋯ | 0 | 0.0126418537 | singlet | 2091 | 1151 | Monocyte/Macrophage | HD66_AAACCTGGTAGTACCT_1_1 | Macro_alveolar      | Monocyte.Macrophage | MYE.Macrophage.Alveolar |\n",
       "\n"
      ],
      "text/plain": [
       "                          nCount_RNA nFeature_RNA cell.id                  \n",
       "HD66_AAACCTGAGACCTTTG_1_1  7022      1570         HD66_AAACCTGAGACCTTTG_1_1\n",
       "HD66_AAACCTGAGAGATGAG_1_1 12220      2982         HD66_AAACCTGAGAGATGAG_1_1\n",
       "HD66_AAACCTGAGGCACATG_1_1  2801      1226         HD66_AAACCTGAGGCACATG_1_1\n",
       "HD66_AAACCTGCAACTTGAC_1_1  3347      1566         HD66_AAACCTGCAACTTGAC_1_1\n",
       "HD66_AAACCTGGTACTCTCC_1_1 11515      4232         HD66_AAACCTGGTACTCTCC_1_1\n",
       "HD66_AAACCTGGTAGTACCT_1_1 36638      4249         HD66_AAACCTGGTAGTACCT_1_1\n",
       "                          study.batch    donor  samples sex  age ethnicity\n",
       "HD66_AAACCTGAGACCTTTG_1_1 Habermann_2020 VUHDgg VUHD66  Male 30  White    \n",
       "HD66_AAACCTGAGAGATGAG_1_1 Habermann_2020 VUHDgg VUHD66  Male 30  White    \n",
       "HD66_AAACCTGAGGCACATG_1_1 Habermann_2020 VUHDgg VUHD66  Male 30  White    \n",
       "HD66_AAACCTGCAACTTGAC_1_1 Habermann_2020 VUHDgg VUHD66  Male 30  White    \n",
       "HD66_AAACCTGGTACTCTCC_1_1 Habermann_2020 VUHDgg VUHD66  Male 30  White    \n",
       "HD66_AAACCTGGTAGTACCT_1_1 Habermann_2020 VUHDgg VUHD66  Male 30  White    \n",
       "                          smoking_status ⋯ scrublet.predicted_db_samples\n",
       "HD66_AAACCTGAGACCTTTG_1_1 Prior          ⋯ 0                            \n",
       "HD66_AAACCTGAGAGATGAG_1_1 Prior          ⋯ 0                            \n",
       "HD66_AAACCTGAGGCACATG_1_1 Prior          ⋯ 0                            \n",
       "HD66_AAACCTGCAACTTGAC_1_1 Prior          ⋯ 0                            \n",
       "HD66_AAACCTGGTACTCTCC_1_1 Prior          ⋯ 0                            \n",
       "HD66_AAACCTGGTAGTACCT_1_1 Prior          ⋯ 0                            \n",
       "                          scDblFinder.score_samples\n",
       "HD66_AAACCTGAGACCTTTG_1_1 0.0024381077             \n",
       "HD66_AAACCTGAGAGATGAG_1_1 0.0029319755             \n",
       "HD66_AAACCTGAGGCACATG_1_1 0.0004318426             \n",
       "HD66_AAACCTGCAACTTGAC_1_1 0.0014188341             \n",
       "HD66_AAACCTGGTACTCTCC_1_1 0.4371041954             \n",
       "HD66_AAACCTGGTAGTACCT_1_1 0.0126418537             \n",
       "                          scDblFinder.predicted_db_samples nCount_SCT\n",
       "HD66_AAACCTGAGACCTTTG_1_1 singlet                          3076      \n",
       "HD66_AAACCTGAGAGATGAG_1_1 singlet                          2578      \n",
       "HD66_AAACCTGAGGCACATG_1_1 singlet                          2905      \n",
       "HD66_AAACCTGCAACTTGAC_1_1 singlet                          3158      \n",
       "HD66_AAACCTGGTACTCTCC_1_1 singlet                          3628      \n",
       "HD66_AAACCTGGTAGTACCT_1_1 singlet                          2091      \n",
       "                          nFeature_SCT cell_type_mid      \n",
       "HD66_AAACCTGAGACCTTTG_1_1 1313         AT2                \n",
       "HD66_AAACCTGAGAGATGAG_1_1 1170         AT2                \n",
       "HD66_AAACCTGAGGCACATG_1_1 1226         Monocyte/Macrophage\n",
       "HD66_AAACCTGCAACTTGAC_1_1 1566         AT1                \n",
       "HD66_AAACCTGGTACTCTCC_1_1 2171         Ciliated           \n",
       "HD66_AAACCTGGTAGTACCT_1_1 1151         Monocyte/Macrophage\n",
       "                          cell_id                   hca_anno_merged    \n",
       "HD66_AAACCTGAGACCTTTG_1_1 HD66_AAACCTGAGACCTTTG_1_1 AT2                \n",
       "HD66_AAACCTGAGAGATGAG_1_1 HD66_AAACCTGAGAGATGAG_1_1 AT2                \n",
       "HD66_AAACCTGAGGCACATG_1_1 HD66_AAACCTGAGGCACATG_1_1 Macro_intravascular\n",
       "HD66_AAACCTGCAACTTGAC_1_1 HD66_AAACCTGCAACTTGAC_1_1 AT1                \n",
       "HD66_AAACCTGGTACTCTCC_1_1 HD66_AAACCTGGTACTCTCC_1_1 Ciliated           \n",
       "HD66_AAACCTGGTAGTACCT_1_1 HD66_AAACCTGGTAGTACCT_1_1 Macro_alveolar     \n",
       "                          cell_type           cell_state             \n",
       "HD66_AAACCTGAGACCTTTG_1_1 AT2                 EP.AT2                 \n",
       "HD66_AAACCTGAGAGATGAG_1_1 AT2                 EP.AT2                 \n",
       "HD66_AAACCTGAGGCACATG_1_1 Monocyte.Macrophage MYE.Monocyte           \n",
       "HD66_AAACCTGCAACTTGAC_1_1 AT1                 EP.AT1                 \n",
       "HD66_AAACCTGGTACTCTCC_1_1 Ciliated            EP.Ciliated            \n",
       "HD66_AAACCTGGTAGTACCT_1_1 Monocyte.Macrophage MYE.Macrophage.Alveolar"
      ]
     },
     "metadata": {},
     "output_type": "display_data"
    }
   ],
   "source": [
    "head(cellchat[[]])"
   ]
  },
  {
   "cell_type": "code",
   "execution_count": 20,
   "metadata": {},
   "outputs": [
    {
     "name": "stderr",
     "output_type": "stream",
     "text": [
      "Warning message:\n",
      "“Overwriting previous file /rds/general/user/snb20/projects/cardiac_single_cell_biology/live/sanger_covid19_snRNAseq/lung/lung_v2/object_anno/global_annotated_object_raw_nodoublets.h5seurat”\n",
      "Creating h5Seurat file for version 3.1.5.9900\n",
      "\n",
      "Adding counts for RNA\n",
      "\n",
      "Adding data for RNA\n",
      "\n",
      "No variable features found for RNA\n",
      "\n",
      "Adding feature-level metadata for RNA\n",
      "\n",
      "Adding cell embeddings for harmony\n",
      "\n",
      "No loadings for harmony\n",
      "\n",
      "No projected loadings for harmony\n",
      "\n",
      "No standard deviations for harmony\n",
      "\n",
      "No JackStraw data for harmony\n",
      "\n",
      "Adding cell embeddings for pca\n",
      "\n",
      "No loadings for pca\n",
      "\n",
      "No projected loadings for pca\n",
      "\n",
      "No standard deviations for pca\n",
      "\n",
      "No JackStraw data for pca\n",
      "\n",
      "Adding cell embeddings for threeD_umap\n",
      "\n",
      "No loadings for threeD_umap\n",
      "\n",
      "No projected loadings for threeD_umap\n",
      "\n",
      "No standard deviations for threeD_umap\n",
      "\n",
      "No JackStraw data for threeD_umap\n",
      "\n",
      "Adding cell embeddings for umap\n",
      "\n",
      "No loadings for umap\n",
      "\n",
      "No projected loadings for umap\n",
      "\n",
      "No standard deviations for umap\n",
      "\n",
      "No JackStraw data for umap\n",
      "\n"
     ]
    }
   ],
   "source": [
    "SaveH5Seurat(cellchat, \"/rds/general/user/snb20/projects/cardiac_single_cell_biology/live/sanger_covid19_snRNAseq/lung/lung_v2/object_anno/global_annotated_object_raw_nodoublets.h5seurat\", overwrite = TRUE, verbose = TRUE)"
   ]
  },
  {
   "cell_type": "code",
   "execution_count": 21,
   "metadata": {},
   "outputs": [],
   "source": [
    "COVID19 <- subset(x = cellchat, subset = health_status == \"COVID.19\")"
   ]
  },
  {
   "cell_type": "code",
   "execution_count": 22,
   "metadata": {},
   "outputs": [
    {
     "data": {
      "text/plain": [
       "An object of class Seurat \n",
       "34091 features across 218002 samples within 1 assay \n",
       "Active assay: RNA (34091 features, 0 variable features)\n",
       " 4 dimensional reductions calculated: harmony, pca, threeD_umap, umap"
      ]
     },
     "metadata": {},
     "output_type": "display_data"
    }
   ],
   "source": [
    "COVID19"
   ]
  },
  {
   "cell_type": "code",
   "execution_count": 23,
   "metadata": {},
   "outputs": [
    {
     "name": "stderr",
     "output_type": "stream",
     "text": [
      "Warning message:\n",
      "“Overwriting previous file /rds/general/user/snb20/projects/cardiac_single_cell_biology/live/sanger_covid19_snRNAseq/lung/lung_v2/object_anno/covid19seuratobj.h5seurat”\n",
      "Creating h5Seurat file for version 3.1.5.9900\n",
      "\n",
      "Adding counts for RNA\n",
      "\n",
      "Adding data for RNA\n",
      "\n",
      "No variable features found for RNA\n",
      "\n",
      "Adding feature-level metadata for RNA\n",
      "\n",
      "Adding cell embeddings for harmony\n",
      "\n",
      "No loadings for harmony\n",
      "\n",
      "No projected loadings for harmony\n",
      "\n",
      "No standard deviations for harmony\n",
      "\n",
      "No JackStraw data for harmony\n",
      "\n",
      "Adding cell embeddings for pca\n",
      "\n",
      "No loadings for pca\n",
      "\n",
      "No projected loadings for pca\n",
      "\n",
      "No standard deviations for pca\n",
      "\n",
      "No JackStraw data for pca\n",
      "\n",
      "Adding cell embeddings for threeD_umap\n",
      "\n",
      "No loadings for threeD_umap\n",
      "\n",
      "No projected loadings for threeD_umap\n",
      "\n",
      "No standard deviations for threeD_umap\n",
      "\n",
      "No JackStraw data for threeD_umap\n",
      "\n",
      "Adding cell embeddings for umap\n",
      "\n",
      "No loadings for umap\n",
      "\n",
      "No projected loadings for umap\n",
      "\n",
      "No standard deviations for umap\n",
      "\n",
      "No JackStraw data for umap\n",
      "\n"
     ]
    }
   ],
   "source": [
    "SaveH5Seurat(COVID19, \"/rds/general/user/snb20/projects/cardiac_single_cell_biology/live/sanger_covid19_snRNAseq/lung/lung_v2/object_anno/covid19seuratobj.h5seurat\", overwrite = TRUE, verbose = TRUE)"
   ]
  },
  {
   "cell_type": "code",
   "execution_count": 24,
   "metadata": {},
   "outputs": [],
   "source": [
    "Healthy <- subset(x = cellchat, subset = health_status == \"Healthy\")"
   ]
  },
  {
   "cell_type": "code",
   "execution_count": 25,
   "metadata": {},
   "outputs": [
    {
     "data": {
      "text/plain": [
       "An object of class Seurat \n",
       "34091 features across 296754 samples within 1 assay \n",
       "Active assay: RNA (34091 features, 0 variable features)\n",
       " 4 dimensional reductions calculated: harmony, pca, threeD_umap, umap"
      ]
     },
     "metadata": {},
     "output_type": "display_data"
    }
   ],
   "source": [
    "Healthy"
   ]
  },
  {
   "cell_type": "code",
   "execution_count": 26,
   "metadata": {},
   "outputs": [
    {
     "name": "stderr",
     "output_type": "stream",
     "text": [
      "Warning message:\n",
      "“Overwriting previous file /rds/general/user/snb20/projects/cardiac_single_cell_biology/live/sanger_covid19_snRNAseq/lung/lung_v2/object_anno/healthyseuratobj.h5seurat”\n",
      "Creating h5Seurat file for version 3.1.5.9900\n",
      "\n",
      "Adding counts for RNA\n",
      "\n",
      "Adding data for RNA\n",
      "\n",
      "No variable features found for RNA\n",
      "\n",
      "Adding feature-level metadata for RNA\n",
      "\n",
      "Adding cell embeddings for harmony\n",
      "\n",
      "No loadings for harmony\n",
      "\n",
      "No projected loadings for harmony\n",
      "\n",
      "No standard deviations for harmony\n",
      "\n",
      "No JackStraw data for harmony\n",
      "\n",
      "Adding cell embeddings for pca\n",
      "\n",
      "No loadings for pca\n",
      "\n",
      "No projected loadings for pca\n",
      "\n",
      "No standard deviations for pca\n",
      "\n",
      "No JackStraw data for pca\n",
      "\n",
      "Adding cell embeddings for threeD_umap\n",
      "\n",
      "No loadings for threeD_umap\n",
      "\n",
      "No projected loadings for threeD_umap\n",
      "\n",
      "No standard deviations for threeD_umap\n",
      "\n",
      "No JackStraw data for threeD_umap\n",
      "\n",
      "Adding cell embeddings for umap\n",
      "\n",
      "No loadings for umap\n",
      "\n",
      "No projected loadings for umap\n",
      "\n",
      "No standard deviations for umap\n",
      "\n",
      "No JackStraw data for umap\n",
      "\n"
     ]
    }
   ],
   "source": [
    "SaveH5Seurat(Healthy, \"/rds/general/user/snb20/projects/cardiac_single_cell_biology/live/sanger_covid19_snRNAseq/lung/lung_v2/object_anno/healthyseuratobj.h5seurat\", overwrite = TRUE, verbose = TRUE)"
   ]
  },
  {
   "cell_type": "code",
   "execution_count": null,
   "metadata": {},
   "outputs": [],
   "source": []
  }
 ],
 "metadata": {
  "kernelspec": {
   "display_name": "R [conda env:r405_cellchat]",
   "language": "R",
   "name": "conda-env-r405_cellchat-r"
  },
  "language_info": {
   "codemirror_mode": "r",
   "file_extension": ".r",
   "mimetype": "text/x-r-source",
   "name": "R",
   "pygments_lexer": "r",
   "version": "4.0.5"
  }
 },
 "nbformat": 4,
 "nbformat_minor": 2
}
