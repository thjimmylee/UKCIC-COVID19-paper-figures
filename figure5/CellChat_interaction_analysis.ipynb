{
 "cells": [
  {
   "cell_type": "markdown",
   "metadata": {},
   "source": []
  },
  {
   "cell_type": "code",
   "execution_count": 1,
   "metadata": {},
   "outputs": [
    {
     "name": "stderr",
     "output_type": "stream",
     "text": [
      "Loading required package: dplyr\n",
      "\n",
      "\n",
      "Attaching package: ‘dplyr’\n",
      "\n",
      "\n",
      "The following objects are masked from ‘package:stats’:\n",
      "\n",
      "    filter, lag\n",
      "\n",
      "\n",
      "The following objects are masked from ‘package:base’:\n",
      "\n",
      "    intersect, setdiff, setequal, union\n",
      "\n",
      "\n",
      "Loading required package: igraph\n",
      "\n",
      "\n",
      "Attaching package: ‘igraph’\n",
      "\n",
      "\n",
      "The following objects are masked from ‘package:dplyr’:\n",
      "\n",
      "    as_data_frame, groups, union\n",
      "\n",
      "\n",
      "The following objects are masked from ‘package:stats’:\n",
      "\n",
      "    decompose, spectrum\n",
      "\n",
      "\n",
      "The following object is masked from ‘package:base’:\n",
      "\n",
      "    union\n",
      "\n",
      "\n",
      "Loading required package: ggplot2\n",
      "\n"
     ]
    }
   ],
   "source": [
    "library(CellChat)"
   ]
  },
  {
   "cell_type": "code",
   "execution_count": 2,
   "metadata": {},
   "outputs": [],
   "source": [
    "suppressMessages({\n",
    "    library(plyr)\n",
    "    library(CellChat)\n",
    "    library(patchwork)\n",
    "    library(SeuratDisk)\n",
    "    library(Seurat)\n",
    "    library(SingleCellExperiment)\n",
    "    library(ggalluvial)\n",
    "    library(repr)\n",
    "    library(ggplot2)\n",
    "    library(gplots)\n",
    "    library(RColorBrewer)\n",
    "    library(gplots)\n",
    "    library(tidyr)\n",
    " })\n",
    "options(stringsAsFactors = FALSE)"
   ]
  },
  {
   "cell_type": "code",
   "execution_count": 3,
   "metadata": {},
   "outputs": [
    {
     "name": "stderr",
     "output_type": "stream",
     "text": [
      "Loading required package: grid\n",
      "\n",
      "========================================\n",
      "ComplexHeatmap version 2.6.2\n",
      "Bioconductor page: http://bioconductor.org/packages/ComplexHeatmap/\n",
      "Github page: https://github.com/jokergoo/ComplexHeatmap\n",
      "Documentation: http://jokergoo.github.io/ComplexHeatmap-reference\n",
      "\n",
      "If you use it in published research, please cite:\n",
      "Gu, Z. Complex heatmaps reveal patterns and correlations in multidimensional \n",
      "  genomic data. Bioinformatics 2016.\n",
      "\n",
      "This message can be suppressed by:\n",
      "  suppressPackageStartupMessages(library(ComplexHeatmap))\n",
      "========================================\n",
      "\n",
      "\n"
     ]
    }
   ],
   "source": [
    "library(ComplexHeatmap)"
   ]
  },
  {
   "cell_type": "code",
   "execution_count": 4,
   "metadata": {},
   "outputs": [
    {
     "data": {
      "text/plain": [
       "R version 4.0.5 (2021-03-31)\n",
       "Platform: x86_64-conda-linux-gnu (64-bit)\n",
       "Running under: Red Hat Enterprise Linux 8.5 (Ootpa)\n",
       "\n",
       "Matrix products: default\n",
       "BLAS/LAPACK: /rds/general/user/snb20/home/anaconda3/envs/r405_cellchat/lib/libopenblasp-r0.3.18.so\n",
       "\n",
       "locale:\n",
       " [1] LC_CTYPE=en_GB.UTF-8       LC_NUMERIC=C              \n",
       " [3] LC_TIME=en_GB.UTF-8        LC_COLLATE=en_GB.UTF-8    \n",
       " [5] LC_MONETARY=en_GB.UTF-8    LC_MESSAGES=en_GB.UTF-8   \n",
       " [7] LC_PAPER=en_GB.UTF-8       LC_NAME=C                 \n",
       " [9] LC_ADDRESS=C               LC_TELEPHONE=C            \n",
       "[11] LC_MEASUREMENT=en_GB.UTF-8 LC_IDENTIFICATION=C       \n",
       "\n",
       "attached base packages:\n",
       " [1] grid      stats4    parallel  stats     graphics  grDevices utils    \n",
       " [8] datasets  methods   base     \n",
       "\n",
       "other attached packages:\n",
       " [1] ComplexHeatmap_2.6.2        tidyr_1.1.4                \n",
       " [3] RColorBrewer_1.1-2          gplots_3.1.1               \n",
       " [5] repr_1.1.4                  ggalluvial_0.12.3          \n",
       " [7] SingleCellExperiment_1.12.0 SummarizedExperiment_1.20.0\n",
       " [9] GenomicRanges_1.42.0        GenomeInfoDb_1.26.7        \n",
       "[11] IRanges_2.24.1              S4Vectors_0.28.1           \n",
       "[13] MatrixGenerics_1.2.1        matrixStats_0.61.0         \n",
       "[15] SeuratObject_4.0.4          Seurat_4.1.0               \n",
       "[17] SeuratDisk_0.0.0.9019       patchwork_1.1.1            \n",
       "[19] plyr_1.8.6                  CellChat_1.1.3             \n",
       "[21] Biobase_2.50.0              BiocGenerics_0.36.1        \n",
       "[23] ggplot2_3.3.5               igraph_1.2.11              \n",
       "[25] dplyr_1.0.8                \n",
       "\n",
       "loaded via a namespace (and not attached):\n",
       "  [1] uuid_1.0-3             circlize_0.4.13        systemfonts_1.0.3     \n",
       "  [4] NMF_0.23.0             lazyeval_0.2.2         splines_4.0.5         \n",
       "  [7] listenv_0.8.0          scattermore_0.7        gridBase_0.4-7        \n",
       " [10] digest_0.6.29          foreach_1.5.1          htmltools_0.5.2       \n",
       " [13] fansi_1.0.2            magrittr_2.0.1         tensor_1.5            \n",
       " [16] cluster_2.1.2          doParallel_1.0.16      ROCR_1.0-11           \n",
       " [19] sna_2.6                globals_0.14.0         svglite_2.0.0         \n",
       " [22] spatstat.sparse_2.1-0  colorspace_2.0-2       ggrepel_0.9.1         \n",
       " [25] RCurl_1.98-1.5         crayon_1.4.2           jsonlite_1.7.3        \n",
       " [28] spatstat.data_2.1-2    survival_3.2-13        zoo_1.8-9             \n",
       " [31] iterators_1.0.13       glue_1.6.0             polyclip_1.10-0       \n",
       " [34] registry_0.5-1         gtable_0.3.0           zlibbioc_1.36.0       \n",
       " [37] XVector_0.30.0         leiden_0.3.9           DelayedArray_0.16.3   \n",
       " [40] GetoptLong_1.0.5       future.apply_1.8.1     shape_1.4.6           \n",
       " [43] abind_1.4-5            scales_1.1.1           rngtools_1.5.2        \n",
       " [46] miniUI_0.1.1.1         Rcpp_1.0.8             viridisLite_0.4.0     \n",
       " [49] xtable_1.8-4           clue_0.3-60            reticulate_1.23       \n",
       " [52] spatstat.core_2.3-2    bit_4.0.4              htmlwidgets_1.5.4     \n",
       " [55] httr_1.4.2             FNN_1.1.3              ellipsis_0.3.2        \n",
       " [58] ica_1.0-2              pkgconfig_2.0.3        uwot_0.1.11           \n",
       " [61] deldir_1.0-6           utf8_1.2.2             tidyselect_1.1.1      \n",
       " [64] rlang_1.0.2            reshape2_1.4.4         later_1.3.0           \n",
       " [67] munsell_0.5.0          tools_4.0.5            cli_3.1.1             \n",
       " [70] generics_0.1.1         statnet.common_4.5.0   ggridges_0.5.3        \n",
       " [73] evaluate_0.14          stringr_1.4.0          fastmap_1.1.0         \n",
       " [76] goftest_1.2-3          bit64_4.0.5            fitdistrplus_1.1-6    \n",
       " [79] caTools_1.18.2         purrr_0.3.4            RANN_2.6.1            \n",
       " [82] nlme_3.1-155           pbapply_1.5-0          future_1.23.0         \n",
       " [85] mime_0.12              hdf5r_1.3.5            compiler_4.0.5        \n",
       " [88] plotly_4.10.0          png_0.1-7              spatstat.utils_2.3-0  \n",
       " [91] tibble_3.1.6           stringi_1.7.6          RSpectra_0.16-0       \n",
       " [94] lattice_0.20-45        IRdisplay_1.1          Matrix_1.4-0          \n",
       " [97] vctrs_0.3.8            pillar_1.6.4           lifecycle_1.0.1       \n",
       "[100] spatstat.geom_2.3-1    lmtest_0.9-39          GlobalOptions_0.1.2   \n",
       "[103] RcppAnnoy_0.0.19       bitops_1.0-7           data.table_1.14.2     \n",
       "[106] cowplot_1.1.1          irlba_2.3.5            httpuv_1.6.5          \n",
       "[109] R6_2.5.1               promises_1.2.0.1       network_1.17.1        \n",
       "[112] KernSmooth_2.23-20     gridExtra_2.3          parallelly_1.30.0     \n",
       "[115] codetools_0.2-18       gtools_3.9.2           MASS_7.3-55           \n",
       "[118] assertthat_0.2.1       pkgmaker_0.32.2        rjson_0.2.21          \n",
       "[121] withr_2.4.3            sctransform_0.3.3      GenomeInfoDbData_1.2.4\n",
       "[124] mgcv_1.8-38            rpart_4.1-15           IRkernel_1.3          \n",
       "[127] coda_0.19-4            Cairo_1.5-14           Rtsne_0.15            \n",
       "[130] pbdZMQ_0.3-6           shiny_1.7.1            base64enc_0.1-3       "
      ]
     },
     "metadata": {},
     "output_type": "display_data"
    }
   ],
   "source": [
    "sessionInfo()"
   ]
  },
  {
   "cell_type": "code",
   "execution_count": 5,
   "metadata": {},
   "outputs": [],
   "source": [
    "'%!in%' <- function(x,y)!('%in%'(x,y))"
   ]
  },
  {
   "cell_type": "code",
   "execution_count": 6,
   "metadata": {},
   "outputs": [],
   "source": [
    "options(future.globals.maxSize = 20000 * 1024 ^ 2)"
   ]
  },
  {
   "cell_type": "code",
   "execution_count": 7,
   "metadata": {},
   "outputs": [
    {
     "data": {
      "text/html": [
       "'/rds/general/user/snb20/home/3_COVID19/GitHub_Notebooks/CellChat'"
      ],
      "text/latex": [
       "'/rds/general/user/snb20/home/3\\_COVID19/GitHub\\_Notebooks/CellChat'"
      ],
      "text/markdown": [
       "'/rds/general/user/snb20/home/3_COVID19/GitHub_Notebooks/CellChat'"
      ],
      "text/plain": [
       "[1] \"/rds/general/user/snb20/home/3_COVID19/GitHub_Notebooks/CellChat\""
      ]
     },
     "metadata": {},
     "output_type": "display_data"
    }
   ],
   "source": [
    "OUTDIR <- \"/rds/general/user/snb20/home/3_COVID19/GitHub_Notebooks/CellChat/\"\n",
    "dir.create(OUTDIR, showWarnings = FALSE)\n",
    "setwd(OUTDIR)\n",
    "getwd()"
   ]
  },
  {
   "cell_type": "code",
   "execution_count": 8,
   "metadata": {},
   "outputs": [],
   "source": [
    "#INDIR <- \"/rds/general/user/snb20/home/3_COVID19/GitHub_Notebooks/CellChat/\""
   ]
  },
  {
   "cell_type": "code",
   "execution_count": 9,
   "metadata": {},
   "outputs": [],
   "source": [
    "cellchat.healthy <- readRDS(\"/rds/general/user/snb20/projects/cardiac_single_cell_biology/live/sanger_covid19_snRNAseq/lung/lung_v2/object_anno/cellchat_global_healthy_no_abundance.rds\")\n",
    "cellchat.covid <- readRDS(\"/rds/general/user/snb20/projects/cardiac_single_cell_biology/live/sanger_covid19_snRNAseq/lung/lung_v2/object_anno/cellchat_global_covid_no_abundance.rds\")"
   ]
  },
  {
   "cell_type": "code",
   "execution_count": null,
   "metadata": {},
   "outputs": [],
   "source": []
  },
  {
   "cell_type": "code",
   "execution_count": 10,
   "metadata": {},
   "outputs": [],
   "source": [
    "netVisual_bubble_2 <- function(object, sources.use = NULL, targets.use = NULL, signaling = NULL, pairLR.use = NULL, color.heatmap = c(\"Spectral\",\"viridis\",\"Reds\"), n.colors = 10, direction = -1, thresh = 0.05,\n",
    "                             comparison = NULL, group = NULL, remove.isolate = FALSE, max.dataset = NULL, min.dataset = NULL,\n",
    "                             min.quantile = 0, max.quantile = 1, line.on = TRUE, line.size = 0.2, color.text.use = TRUE, color.text = NULL,\n",
    "                             title.name = NULL, font.size = 10, font.size.title = 10, show.legend = TRUE,\n",
    "                             grid.on = TRUE, color.grid = \"grey90\", angle.x = 90, vjust.x = NULL, hjust.x = NULL,angle.y = 0, vjust.y = NULL, hjust.y = NULL,\n",
    "                             return.data = FALSE,text_size.x=8,text_size.y=8,pch=16,cex=1,order=NULL){\n",
    "  color.heatmap <- match.arg(color.heatmap)\n",
    "  if (is.list(object@net[[1]])) {\n",
    "    message(\"Comparing communications on a merged object \\n\")\n",
    "  } else {\n",
    "    message(\"Comparing communications on a single object \\n\")\n",
    "  }\n",
    "  if (is.null(vjust.x) | is.null(hjust.x)) {\n",
    "    angle=c(0, 45, 90)\n",
    "    hjust=c(0, 1, 1)\n",
    "    vjust=c(0, 1, 0.5)\n",
    "    vjust.x = vjust[angle == angle.x]\n",
    "    hjust.x = hjust[angle == angle.x]\n",
    "  }\n",
    "  if (length(color.heatmap) == 1) {\n",
    "    color.use <- tryCatch({\n",
    "      RColorBrewer::brewer.pal(n = n.colors, name = color.heatmap)\n",
    "    }, error = function(e) {\n",
    "      scales::viridis_pal(option = color.heatmap, direction = -1)(n.colors)\n",
    "    })\n",
    "  } else {\n",
    "    color.use <- color.heatmap\n",
    "  }\n",
    "  if (direction == -1) {\n",
    "    color.use <- rev(color.use)\n",
    "  }\n",
    "\n",
    "  if (is.null(comparison)) {\n",
    "    cells.level <- levels(object@idents)\n",
    "    if (is.numeric(sources.use)) {\n",
    "      sources.use <- cells.level[sources.use]\n",
    "    }\n",
    "    if (is.numeric(targets.use)) {\n",
    "      targets.use <- cells.level[targets.use]\n",
    "    }\n",
    "    df.net <- subsetCommunication(object, slot.name = \"net\",\n",
    "                                  sources.use = sources.use, targets.use = targets.use,\n",
    "                                  signaling = signaling,\n",
    "                                  pairLR.use = pairLR.use,\n",
    "                                  thresh = thresh)\n",
    "    df.net$source.target <- paste(df.net$source, df.net$target, sep = \" -> \")\n",
    "    source.target <- paste(rep(sources.use, each = length(targets.use)), targets.use, sep = \" -> \")\n",
    "    source.target.isolate <- setdiff(source.target, unique(df.net$source.target))\n",
    "    if (length(source.target.isolate) > 0) {\n",
    "      df.net.isolate <- as.data.frame(matrix(NA, nrow = length(source.target.isolate), ncol = ncol(df.net)))\n",
    "      colnames(df.net.isolate) <- colnames(df.net)\n",
    "      df.net.isolate$source.target <- source.target.isolate\n",
    "      df.net.isolate$interaction_name_2 <- df.net$interaction_name_2[1]\n",
    "      df.net.isolate$pval <- 1\n",
    "      a <- stringr::str_split(df.net.isolate$source.target, \" -> \", simplify = T)\n",
    "      df.net.isolate$source <- as.character(a[, 1])\n",
    "      df.net.isolate$target <- as.character(a[, 2])\n",
    "      df.net <- rbind(df.net, df.net.isolate)\n",
    "    }\n",
    "\n",
    "    df.net$pval[df.net$pval > 0.05] = 1\n",
    "    df.net$pval[df.net$pval > 0.01 & df.net$pval <= 0.05] = 2\n",
    "    df.net$pval[df.net$pval <= 0.01] = 3\n",
    "    df.net$prob[df.net$prob == 0] <- NA\n",
    "    df.net$prob.original <- df.net$prob\n",
    "    df.net$prob <- -1/log(df.net$prob)\n",
    "\n",
    "    idx1 <- which(is.infinite(df.net$prob) | df.net$prob < 0)\n",
    "    if (sum(idx1) > 0) {\n",
    "      values.assign <- seq(max(df.net$prob, na.rm = T)*1.1, max(df.net$prob, na.rm = T)*1.5, length.out = length(idx1))\n",
    "      position <- sort(prob.original[idx1], index.return = TRUE)$ix\n",
    "      df.net$prob[idx1] <- values.assign[match(1:length(idx1), position)]\n",
    "    }\n",
    "    # rownames(df.net) <- df.net$interaction_name_2\n",
    "\n",
    "    df.net$source <- factor(df.net$source, levels = cells.level[cells.level %in% unique(df.net$source)])\n",
    "    df.net$target <- factor(df.net$target, levels = cells.level[cells.level %in% unique(df.net$target)])\n",
    "    group.names <- paste(rep(levels(df.net$source), each = length(levels(df.net$target))), levels(df.net$target), sep = \" -> \")\n",
    "\n",
    "    df.net$interaction_name_2 <- as.character(df.net$interaction_name_2)\n",
    "    df.net <- with(df.net, df.net[order(interaction_name_2),])\n",
    "    df.net$interaction_name_2 <- factor(df.net$interaction_name_2, levels = unique(df.net$interaction_name_2))\n",
    "    cells.order <- group.names\n",
    "    df.net$source.target <- factor(df.net$source.target, levels = cells.order)\n",
    "    df <- df.net\n",
    "  } else {\n",
    "    dataset.name <- names(object@net)\n",
    "    df.net.all <- subsetCommunication(object, slot.name = \"net\",\n",
    "                                      sources.use = sources.use, targets.use = targets.use,\n",
    "                                      signaling = signaling,\n",
    "                                      pairLR.use = pairLR.use,\n",
    "                                      thresh = thresh)\n",
    "    df.all <- data.frame()\n",
    "    for (ii in 1:length(comparison)) {\n",
    "      cells.level <- levels(object@idents[[comparison[ii]]])\n",
    "      if (is.numeric(sources.use)) {\n",
    "        sources.use <- cells.level[sources.use]\n",
    "      }\n",
    "      if (is.numeric(targets.use)) {\n",
    "        targets.use <- cells.level[targets.use]\n",
    "      }\n",
    "\n",
    "      df.net <- df.net.all[[comparison[ii]]]\n",
    "      df.net$interaction_name_2 <- as.character(df.net$interaction_name_2)\n",
    "      df.net$source.target <- paste(df.net$source, df.net$target, sep = \" -> \")\n",
    "      source.target <- paste(rep(sources.use, each = length(targets.use)), targets.use, sep = \" -> \")\n",
    "      source.target.isolate <- setdiff(source.target, unique(df.net$source.target))\n",
    "      if (length(source.target.isolate) > 0) {\n",
    "        df.net.isolate <- as.data.frame(matrix(NA, nrow = length(source.target.isolate), ncol = ncol(df.net)))\n",
    "        colnames(df.net.isolate) <- colnames(df.net)\n",
    "        df.net.isolate$source.target <- source.target.isolate\n",
    "        df.net.isolate$interaction_name_2 <- df.net$interaction_name_2[1]\n",
    "        df.net.isolate$pval <- 1\n",
    "        a <- stringr::str_split(df.net.isolate$source.target, \" -> \", simplify = T)\n",
    "        df.net.isolate$source <- as.character(a[, 1])\n",
    "        df.net.isolate$target <- as.character(a[, 2])\n",
    "        df.net <- rbind(df.net, df.net.isolate)\n",
    "      }\n",
    "\n",
    "      df.net$source <- factor(df.net$source, levels = cells.level[cells.level %in% unique(df.net$source)])\n",
    "      df.net$target <- factor(df.net$target, levels = cells.level[cells.level %in% unique(df.net$target)])\n",
    "      group.names <- paste(rep(levels(df.net$source), each = length(levels(df.net$target))), levels(df.net$target), sep = \" -> \")\n",
    "      group.names0 <- group.names\n",
    "      group.names <- paste0(group.names0, \" (\", dataset.name[comparison[ii]], \")\")\n",
    "\n",
    "      if (nrow(df.net) > 0) {\n",
    "        df.net$pval[df.net$pval > 0.05] = 1\n",
    "        df.net$pval[df.net$pval > 0.01 & df.net$pval <= 0.05] = 2\n",
    "        df.net$pval[df.net$pval <= 0.01] = 3\n",
    "        df.net$prob[df.net$prob == 0] <- NA\n",
    "        df.net$prob.original <- df.net$prob\n",
    "        df.net$prob <- -1/log(df.net$prob)\n",
    "      } else {\n",
    "        df.net <- as.data.frame(matrix(NA, nrow = length(group.names), ncol = 5))\n",
    "        colnames(df.net) <- c(\"interaction_name_2\",\"source.target\",\"prob\",\"pval\",\"prob.original\")\n",
    "        df.net$source.target <- group.names0\n",
    "      }\n",
    "      # df.net$group.names <- sub(paste0(' \\\\(',dataset.name[comparison[ii]],'\\\\)'),'',as.character(df.net$source.target))\n",
    "      df.net$group.names <- as.character(df.net$source.target)\n",
    "      df.net$source.target <- paste0(df.net$source.target, \" (\", dataset.name[comparison[ii]], \")\")\n",
    "      df.net$dataset <- dataset.name[comparison[ii]]\n",
    "      df.all <- rbind(df.all, df.net)\n",
    "    }\n",
    "    if (nrow(df.all) == 0) {\n",
    "      stop(\"No interactions are detected. Please consider changing the cell groups for analysis. \")\n",
    "    }\n",
    "\n",
    "    idx1 <- which(is.infinite(df.all$prob) | df.all$prob < 0)\n",
    "    if (sum(idx1) > 0) {\n",
    "      values.assign <- seq(max(df.all$prob, na.rm = T)*1.1, max(df.all$prob, na.rm = T)*1.5, length.out = length(idx1))\n",
    "      position <- sort(df.all$prob.original[idx1], index.return = TRUE)$ix\n",
    "      df.all$prob[idx1] <- values.assign[match(1:length(idx1), position)]\n",
    "    }\n",
    "\n",
    "    df.all$interaction_name_2[is.na(df.all$interaction_name_2)] <- df.all$interaction_name_2[!is.na(df.all$interaction_name_2)][1]\n",
    "\n",
    "    df <- df.all\n",
    "    df <- with(df, df[order(interaction_name_2),])\n",
    "    df$interaction_name_2 <- factor(df$interaction_name_2, levels = unique(df$interaction_name_2))\n",
    "\n",
    "    cells.order <- c()\n",
    "    dataset.name.order <- c()\n",
    "    for (i in 1:length(group.names0)) {\n",
    "      for (j in 1:length(comparison)) {\n",
    "        cells.order <- c(cells.order, paste0(group.names0[i], \" (\", dataset.name[comparison[j]], \")\"))\n",
    "        dataset.name.order <- c(dataset.name.order, dataset.name[comparison[j]])\n",
    "      }\n",
    "    }\n",
    "    df$source.target <- factor(df$source.target, levels = cells.order)\n",
    "  }\n",
    "\n",
    "  min.cutoff <- quantile(df$prob, min.quantile,na.rm= T)\n",
    "  max.cutoff <- quantile(df$prob, max.quantile,na.rm= T)\n",
    "  df$prob[df$prob < min.cutoff] <- min.cutoff\n",
    "  df$prob[df$prob > max.cutoff] <- max.cutoff\n",
    "\n",
    "\n",
    "  if (remove.isolate) {\n",
    "    df <- df[!is.na(df$prob), ]\n",
    "    line.on <- FALSE\n",
    "  }\n",
    "  if (!is.null(max.dataset)) {\n",
    "    # line.on <- FALSE\n",
    "    # df <- df[!is.na(df$prob),]\n",
    "    signaling <- as.character(unique(df$interaction_name_2))\n",
    "    for (i in signaling) {\n",
    "      df.i <- df[df$interaction_name_2 == i, ,drop = FALSE]\n",
    "      cell <- as.character(unique(df.i$group.names))\n",
    "      for (j in cell) {\n",
    "        df.i.j <- df.i[df.i$group.names == j, , drop = FALSE]\n",
    "        values <- df.i.j$prob\n",
    "        idx.max <- which(values == max(values, na.rm = T))\n",
    "        idx.min <- which(values == min(values, na.rm = T))\n",
    "        #idx.na <- c(which(is.na(values)), which(!(dataset.name[comparison] %in% df.i.j$dataset)))\n",
    "        dataset.na <- c(df.i.j$dataset[is.na(values)], setdiff(dataset.name[comparison], df.i.j$dataset))\n",
    "        if (length(idx.max) > 0) {\n",
    "          if (!(df.i.j$dataset[idx.max] %in% dataset.name[max.dataset])) {\n",
    "            df.i.j$prob <- NA\n",
    "          } else if ((idx.max != idx.min) & !is.null(min.dataset)) {\n",
    "            if (!(df.i.j$dataset[idx.min] %in% dataset.name[min.dataset])) {\n",
    "              df.i.j$prob <- NA\n",
    "            } else if (length(dataset.na) > 0 & sum(!(dataset.name[min.dataset] %in% dataset.na)) > 0) {\n",
    "              df.i.j$prob <- NA\n",
    "            }\n",
    "          }\n",
    "        }\n",
    "        df.i[df.i$group.names == j, \"prob\"] <- df.i.j$prob\n",
    "      }\n",
    "      df[df$interaction_name_2 == i, \"prob\"] <- df.i$prob\n",
    "    }\n",
    "    #df <- df[!is.na(df$prob), ]\n",
    "  }\n",
    "  if (remove.isolate) {\n",
    "    df <- df[!is.na(df$prob), ]\n",
    "    line.on <- FALSE\n",
    "  }\n",
    "  if (nrow(df) == 0) {\n",
    "    stop(\"No interactions are detected. Please consider changing the cell groups for analysis. \")\n",
    "  }\n",
    "  df$interaction_name_2 <- factor(df$interaction_name_2, levels = unique(df$interaction_name_2))\n",
    "  df$source.target = droplevels(df$source.target, exclude = setdiff(levels(df$source.target),unique(df$source.target)))\n",
    "   \n",
    "  if (!is.null(order)){\n",
    "      \n",
    "     df=df[\n",
    "     with(df, order(df$dataset,df$target)),\n",
    "     ]\n",
    "     df$source.target=paste0(df$group.names,\" (\",df$dataset,\")\")\n",
    "      if (order==TRUE){\n",
    "     order=unique(df$source.target)\n",
    "          }\n",
    "     df$source.target <- factor(df$source.target,levels = c(order))\n",
    "\n",
    "  }\n",
    "\n",
    "    if (!is.null(cex)){\n",
    "   \n",
    "  g <- ggplot(df, aes(y = source.target, x = interaction_name_2, color = prob, size = pval)) +\n",
    "    geom_point(pch = pch,cex=cex) +\n",
    "    theme_linedraw() + theme(panel.grid.major = element_blank()) +\n",
    "    theme(axis.text.x = element_text(angle = angle.x, hjust= hjust.x, vjust = vjust.x,size=text_size.x),\n",
    "          axis.text.y = element_text(angle = angle.y, hjust= hjust.y, vjust = vjust.y,size=text_size.y),\n",
    "          axis.title.x = element_blank(),\n",
    "          axis.title.y = element_blank()) +\n",
    "    scale_x_discrete(position = \"bottom\")\n",
    "        }\n",
    "    \n",
    "     if (is.null(cex)){\n",
    "   \n",
    "  g <- ggplot(df, aes(y = source.target, x = interaction_name_2, color = prob, size = pval)) +\n",
    "    geom_point(pch = pch) +\n",
    "    theme_linedraw() + theme(panel.grid.major = element_blank()) +\n",
    "    theme(axis.text.x = element_text(angle = angle.x, hjust= hjust.x, vjust = vjust.x,size=text_size.x),\n",
    "          axis.text.y = element_text(angle = angle.y, hjust= hjust.y, vjust = vjust.y,size=text_size.y),\n",
    "          axis.title.x = element_blank(),\n",
    "          axis.title.y = element_blank()) +\n",
    "    scale_x_discrete(position = \"bottom\")\n",
    "        }\n",
    "\n",
    "  values <- c(1,2,3); names(values) <- c(\"p > 0.05\", \"0.01 < p < 0.05\",\"p < 0.01\")\n",
    "\n",
    "  g <- g + scale_radius(range = c(min(df$pval), max(df$pval)), breaks = sort(unique(df$pval)),labels = names(values)[values %in% sort(unique(df$pval))], name = \"p-value\")\n",
    "  #g <- g + scale_radius(range = c(1,3), breaks = values,labels = names(values), name = \"p-value\")\n",
    "  if (min(df$prob, na.rm = T) != max(df$prob, na.rm = T)) {\n",
    "    g <- g + scale_colour_gradientn(colors = colorRampPalette(color.use)(99), na.value = \"white\", limits=c(quantile(df$prob, 0,na.rm= T), quantile(df$prob, 1,na.rm= T)),\n",
    "                                    breaks = c(quantile(df$prob, 0,na.rm= T), quantile(df$prob, 1,na.rm= T)), labels = c(\"min\",\"max\")) +\n",
    "      guides(color = guide_colourbar(barwidth = 0.5, title = \"Commun. Prob.\"))\n",
    "  } else {\n",
    "    g <- g + scale_colour_gradientn(colors = colorRampPalette(color.use)(99), na.value = \"white\") +\n",
    "      guides(color = guide_colourbar(barwidth = 0.5, title = \"Commun. Prob.\"))\n",
    "  }\n",
    "\n",
    "  g <- g + theme(text = element_text(size = font.size),plot.title = element_text(size=font.size.title)) +\n",
    "    theme(legend.title = element_text(size = 8), legend.text = element_text(size = 6))\n",
    "\n",
    "  if (grid.on) {\n",
    "    if (length(unique(df$source.target)) > 1) {\n",
    "      g <- g + geom_vline(xintercept=seq(1.5, length(unique(df$source.target))-0.5, 1),lwd=0.1,colour=color.grid)\n",
    "    }\n",
    "    if (length(unique(df$interaction_name_2)) > 1) {\n",
    "      g <- g + geom_hline(yintercept=seq(1.5, length(unique(df$interaction_name_2))-0.5, 1),lwd=0.1,colour=color.grid)\n",
    "    }\n",
    "  }\n",
    "  if (!is.null(title.name)) {\n",
    "    g <- g + ggtitle(title.name) + theme(plot.title = element_text(hjust = 0.5))\n",
    "  }\n",
    "\n",
    "  if (!is.null(comparison)) {\n",
    "    if (line.on) {\n",
    "      xintercept = seq(0.5+length(dataset.name[comparison]), length(group.names0)*length(dataset.name[comparison]), by = length(dataset.name[comparison]))\n",
    "      g <- g + geom_vline(xintercept = xintercept, linetype=\"dashed\", color = \"grey60\", size = line.size)\n",
    "    }\n",
    "    if (color.text.use) {\n",
    "      if (is.null(group)) {\n",
    "        group <- 1:length(comparison)\n",
    "        names(group) <- dataset.name[comparison]\n",
    "      }\n",
    "      if (is.null(color.text)) {\n",
    "        color <- ggPalette(length(unique(group)))\n",
    "      } else {\n",
    "        color <- color.text\n",
    "      }\n",
    "      names(color) <- names(group[!duplicated(group)])\n",
    "      color <- color[group]\n",
    "      #names(color) <- dataset.name[comparison]\n",
    "      dataset.name.order <- levels(df$source.target)\n",
    "      dataset.name.order <- stringr::str_match(dataset.name.order, \"\\\\(.*\\\\)\")\n",
    "      dataset.name.order <- stringr::str_sub(dataset.name.order, 2, stringr::str_length(dataset.name.order)-1)\n",
    "      xtick.color <- color[dataset.name.order]\n",
    "      g <- g + theme(axis.text.x = element_text(colour = xtick.color))\n",
    "    }\n",
    "  }\n",
    "  if (!show.legend) {\n",
    "    g <- g + theme(legend.position = \"none\")\n",
    "  }\n",
    "  if (return.data) {\n",
    "    return(list(communication = df, gg.obj = g))\n",
    "  } else {\n",
    "    return(g)\n",
    "  }\n",
    "\n",
    "}"
   ]
  },
  {
   "cell_type": "code",
   "execution_count": 11,
   "metadata": {},
   "outputs": [
    {
     "name": "stdout",
     "output_type": "stream",
     "text": [
      "[1] \"Healthy  32\"\n",
      "[1] \"Covid  32\"\n"
     ]
    }
   ],
   "source": [
    "print(paste(\"Healthy \", length(levels(cellchat.healthy@idents))))\n",
    "print(paste(\"Covid \", length(levels(cellchat.covid@idents))))"
   ]
  },
  {
   "cell_type": "code",
   "execution_count": 12,
   "metadata": {},
   "outputs": [],
   "source": [
    "object.list <- list(healthy = cellchat.healthy, covid = cellchat.covid)"
   ]
  },
  {
   "cell_type": "code",
   "execution_count": 13,
   "metadata": {},
   "outputs": [
    {
     "name": "stderr",
     "output_type": "stream",
     "text": [
      "Merge the following slots: 'data.signaling','net', 'netP','meta', 'idents', 'var.features' , 'DB', and 'LR'.\n",
      "\n"
     ]
    }
   ],
   "source": [
    "cellchat <- mergeCellChat(object.list, add.names = names(object.list))"
   ]
  },
  {
   "cell_type": "code",
   "execution_count": 14,
   "metadata": {},
   "outputs": [],
   "source": [
    "options(repr.plot.width = 10, repr.plot.height = 15)\n"
   ]
  },
  {
   "cell_type": "code",
   "execution_count": 22,
   "metadata": {},
   "outputs": [],
   "source": [
    "gg1 <- rankNet(cellchat, mode = \"comparison\", stacked = T, do.stat = TRUE, color.use = c(\"navy\",\"firebrick\"))"
   ]
  },
  {
   "cell_type": "code",
   "execution_count": 20,
   "metadata": {},
   "outputs": [
    {
     "data": {
      "image/png": "[encoded data removed]",
      "text/plain": [
       "plot without title"
      ]
     },
     "metadata": {
      "image/png": {
       "height": 900,
       "width": 600
      }
     },
     "output_type": "display_data"
    }
   ],
   "source": [
    "gg1"
   ]
  },
  {
   "cell_type": "code",
   "execution_count": 34,
   "metadata": {},
   "outputs": [
    {
     "data": {
      "text/html": [
       "<strong>png:</strong> 2"
      ],
      "text/latex": [
       "\\textbf{png:} 2"
      ],
      "text/markdown": [
       "**png:** 2"
      ],
      "text/plain": [
       "png \n",
       "  2 "
      ]
     },
     "metadata": {},
     "output_type": "display_data"
    }
   ],
   "source": [
    "pdf(\"allpathways_waterfall.pdf\", width = 5, height = 10)\n",
    "\n",
    "gg1\n",
    "dev.off()"
   ]
  },
  {
   "cell_type": "code",
   "execution_count": 44,
   "metadata": {},
   "outputs": [
    {
     "data": {
      "text/plain": [
       "An object of class CellChat created from a single dataset \n",
       " 34091 genes.\n",
       " 296754 cells."
      ]
     },
     "metadata": {},
     "output_type": "display_data"
    }
   ],
   "source": [
    "cellchat.healthy"
   ]
  },
  {
   "cell_type": "code",
   "execution_count": 14,
   "metadata": {},
   "outputs": [
    {
     "data": {
      "text/plain": [
       "An object of class CellChat created from a single dataset \n",
       " 34091 genes.\n",
       " 218002 cells."
      ]
     },
     "metadata": {},
     "output_type": "display_data"
    }
   ],
   "source": [
    "cellchat.covid"
   ]
  },
  {
   "cell_type": "code",
   "execution_count": 15,
   "metadata": {},
   "outputs": [
    {
     "data": {
      "text/plain": [
       "An object of class CellChat created from a merged object with multiple datasets \n",
       " 895 signaling genes.\n",
       " 514756 cells."
      ]
     },
     "metadata": {},
     "output_type": "display_data"
    }
   ],
   "source": [
    "cellchat"
   ]
  },
  {
   "cell_type": "code",
   "execution_count": 16,
   "metadata": {},
   "outputs": [
    {
     "data": {
      "text/html": [
       "<style>\n",
       ".list-inline {list-style: none; margin:0; padding: 0}\n",
       ".list-inline>li {display: inline-block}\n",
       ".list-inline>li:not(:last-child)::after {content: \"\\00b7\"; padding: 0 .5ex}\n",
       "</style>\n",
       "<ol class=list-inline><li>'healthy'</li><li>'covid'</li></ol>\n"
      ],
      "text/latex": [
       "\\begin{enumerate*}\n",
       "\\item 'healthy'\n",
       "\\item 'covid'\n",
       "\\end{enumerate*}\n"
      ],
      "text/markdown": [
       "1. 'healthy'\n",
       "2. 'covid'\n",
       "\n",
       "\n"
      ],
      "text/plain": [
       "[1] \"healthy\" \"covid\"  "
      ]
     },
     "metadata": {},
     "output_type": "display_data"
    }
   ],
   "source": [
    "names(cellchat@net)"
   ]
  },
  {
   "cell_type": "code",
   "execution_count": 21,
   "metadata": {},
   "outputs": [],
   "source": [
    "genotypes <- names(cellchat@net)"
   ]
  },
  {
   "cell_type": "markdown",
   "metadata": {},
   "source": [
    "### All States Heatmap"
   ]
  },
  {
   "cell_type": "code",
   "execution_count": 20,
   "metadata": {},
   "outputs": [
    {
     "data": {
      "text/html": [
       "8"
      ],
      "text/latex": [
       "8"
      ],
      "text/markdown": [
       "8"
      ],
      "text/plain": [
       "[1] 8"
      ]
     },
     "metadata": {},
     "output_type": "display_data"
    },
    {
     "data": {
      "text/html": [
       "9"
      ],
      "text/latex": [
       "9"
      ],
      "text/markdown": [
       "9"
      ],
      "text/plain": [
       "[1] 9"
      ]
     },
     "metadata": {},
     "output_type": "display_data"
    }
   ],
   "source": [
    "\n",
    "heatmap.df <- list(contrib = data.frame(matrix(ncol = 0, nrow = 0)), pval = data.frame(matrix(ncol = 0, nrow = 0)))\n",
    "\n",
    "for (i in c(2:length(genotypes))){\n",
    "  gg <- rankNet(cellchat, mode = \"comparison\", comparison=c(1,i)\n",
    "                , title= genotypes[i]\n",
    "                , cutoff.pvalue = 0.05\n",
    "                , font.size = 100\n",
    "                , stacked = T, show.raw = T, do.stat = TRUE, return.data = FALSE)\n",
    "  temp <- data.frame(gg$data[gg$data$group == levels(gg$data$group)[1],c(\"contribution\", \"pvalues\")], control.contribution=gg$data[gg$data$group == levels(gg$data$group)[2],c(\"contribution\")], row.names = rownames(gg$data)[gg$data$group == levels(gg$data$group)[2]])\n",
    "  temp2 <- data.frame((temp[,1]/temp[,3]), row.names = rownames(temp))\n",
    "  colnames(temp2) <- genotypes[i]\n",
    "  if(sum(dim(heatmap.df$contrib) == c(0,0))){\n",
    "    heatmap.df$contrib <- temp2\n",
    "  } else{\n",
    "    heatmap.df$contrib <- merge(heatmap.df$contrib, temp2, all = TRUE, by = \"row.names\")\n",
    "    rownames(heatmap.df$contrib) <- heatmap.df$contrib$Row.names\n",
    "    heatmap.df$contrib <- heatmap.df$contrib[,c(-1)]\n",
    "  }\n",
    "  \n",
    "  #temp2 <- data.frame(temp[,2], row.names = rownames(temp))\n",
    "  temp2 <- data.frame(p.adjust(temp[,2], method=\"bonferroni\"), row.names = rownames(temp))\n",
    "  colnames(temp2) <- genotypes[i]\n",
    "  if(sum(dim(heatmap.df$pval) == c(0,0))){\n",
    "    heatmap.df$pval <- temp2\n",
    "  } else {\n",
    "    heatmap.df$pval <- merge(heatmap.df$pval, temp2, all = TRUE, by = \"row.names\")\n",
    "    rownames(heatmap.df$pval) <- heatmap.df$pval$Row.names\n",
    "    heatmap.df$pval <- heatmap.df$pval[,c(-1)]\n",
    "  }\n",
    "}\n",
    "\n",
    "heatmap.df$contrib <- log2(heatmap.df$contrib)\n",
    "\n",
    "heatmap.df$pval <- data.frame(sapply(heatmap.df$pval, as.numeric), row.names=rownames(heatmap.df$pval))\n",
    "heatmap.df$contrib <- data.frame(sapply(heatmap.df$contrib, as.numeric), row.names=rownames(heatmap.df$contrib))\n",
    "\n",
    "\n",
    "\n",
    "\n",
    "MAX.CONTRIB <- max(abs(heatmap.df$contrib[!(sapply(heatmap.df$contrib, is.infinite) | is.na(heatmap.df$contrib))]))\n",
    "MAX.CONTRIB <- round(MAX.CONTRIB)\n",
    "MAX.CONTRIB\n",
    "\n",
    "\n",
    "INF.VALUE <- MAX.CONTRIB+1\n",
    "INF.VALUE\n",
    "\n"
   ]
  },
  {
   "cell_type": "code",
   "execution_count": 22,
   "metadata": {},
   "outputs": [
    {
     "data": {
      "text/html": [
       "<strong>png:</strong> 2"
      ],
      "text/latex": [
       "\\textbf{png:} 2"
      ],
      "text/markdown": [
       "**png:** 2"
      ],
      "text/plain": [
       "png \n",
       "  2 "
      ]
     },
     "metadata": {},
     "output_type": "display_data"
    }
   ],
   "source": [
    "pdf(\"allpathways_heatmap_no_abundance_Feb23.pdf\", width = 10, height = 5)\n",
    "\n",
    "\n",
    "options(repr.plot.width = 12, repr.plot.height = 5)\n",
    "\n",
    "\n",
    "\n",
    "heatmap.df2 <- heatmap.df\n",
    "\n",
    "\n",
    "\n",
    "heatmap.df2$contrib[sapply(heatmap.df2$contrib, is.infinite) & heatmap.df2$contrib > 0] <- INF.VALUE\n",
    "heatmap.df2$contrib[sapply(heatmap.df2$contrib, is.infinite) & heatmap.df2$contrib < 0] <- -INF.VALUE\n",
    "\n",
    "\n",
    "\n",
    "if(length(genotypes) > 2){\n",
    "heatmap.df2$pval[is.na(heatmap.df2$pval)] <- 2\n",
    "\n",
    "\n",
    "\n",
    "heatmap.df2$pval <- heatmap.df2$pval[(apply(is.na(heatmap.df2$contrib), 1, sum) < 5),]\n",
    "heatmap.df2$contrib <- heatmap.df2$contrib[(apply(is.na(heatmap.df2$contrib), 1, sum) < 5),]\n",
    "\n",
    "\n",
    "\n",
    "heatmap.df2$contrib <- heatmap.df2$contrib[(apply(heatmap.df2$pval > 0.01, 1, sum) < 5),]\n",
    "heatmap.df2$pval <- heatmap.df2$pval[(apply(heatmap.df2$pval > 0.01, 1, sum) < 5),]\n",
    "heatmap.df2$pval[heatmap.df2$pval == 2] <- NA\n",
    "\n",
    "\n",
    "\n",
    "}\n",
    "\n",
    "\n",
    "\n",
    "heatmap.df2$sig <- heatmap.df2$pval\n",
    "heatmap.df2$sig[] <- ''\n",
    "heatmap.df2$sig[heatmap.df2$pval < 0.05] <- '*'\n",
    "heatmap.df2$sig[is.na(heatmap.df2$pval)] <- '-'\n",
    "\n",
    "\n",
    "\n",
    "heatmap.df2$contrib[is.na(heatmap.df2$contrib)] <- 0\n",
    "\n",
    "\n",
    "\n",
    "scale.interval.size <- 0.05\n",
    "num_breaks <- (MAX.CONTRIB * 2 / scale.interval.size)+1\n",
    "breaks <- c(-(INF.VALUE+1), seq(from=-MAX.CONTRIB, to=MAX.CONTRIB, length.out=num_breaks), INF.VALUE+1)\n",
    "midpoint <- 0 # the mid of the \"real\" scale\n",
    "\n",
    "\n",
    "\n",
    "rampCol2 <- colorRampPalette(c(\"#6699FF\", \"white\", \"#b90e0a\"))(length(breaks)-1)\n",
    "mypalette <- c(rampCol2)\n",
    "mypalette[1] <- \"#5689EF\" # just a random extreme color for -inf\n",
    "mypalette[num_breaks+1] <- \"#b90e0a\" # just a random extreme color for inf\n",
    "\n",
    "\n",
    "\n",
    "if(length(genotypes) > 2){\n",
    "\n",
    "heatmap.df3 <- heatmap.df2\n",
    "heatmap.df4 <- heatmap.df2\n",
    "\n",
    "\n",
    "\n",
    "heatmap.df3$contrib <- heatmap.df2$contrib[(apply(heatmap.df2$contrib > 0 & heatmap.df2$sig != '', 1, sum) >=4 & apply(heatmap.df2$contrib < 0 & heatmap.df2$sig != '', 1, sum) == 0)\n",
    "|(apply(heatmap.df2$contrib < 0 & heatmap.df2$sig != '', 1, sum) >=4 & apply(heatmap.df2$contrib > 0 & heatmap.df2$sig != '', 1, sum) == 0) ,]\n",
    "heatmap.df3$sig <- heatmap.df2$sig[(apply(heatmap.df2$contrib > 0 & heatmap.df2$sig != '', 1, sum) >=4 & apply(heatmap.df2$contrib < 0 & heatmap.df2$sig != '', 1, sum) == 0)\n",
    "|(apply(heatmap.df2$contrib < 0 & heatmap.df2$sig != '', 1, sum) >=4 & apply(heatmap.df2$contrib > 0 & heatmap.df2$sig != '', 1, sum) == 0) ,]\n",
    "heatmap.df3$sig <- heatmap.df3$sig[order(apply(heatmap.df3$contrib, 1, mean)),]\n",
    "heatmap.df3$contrib <- heatmap.df3$contrib[order(apply(heatmap.df3$contrib, 1, mean)),]\n",
    "\n",
    "\n",
    "\n",
    "heatmap.df4$contrib <- heatmap.df2$contrib[!((apply(heatmap.df2$contrib > 0 & heatmap.df2$sig != '', 1, sum) >=4 & apply(heatmap.df2$contrib < 0 & heatmap.df2$sig != '', 1, sum) == 0)\n",
    "|(apply(heatmap.df2$contrib < 0 & heatmap.df2$sig != '', 1, sum) >=4 & apply(heatmap.df2$contrib > 0 & heatmap.df2$sig != '', 1, sum) == 0)) ,]\n",
    "heatmap.df4$sig <- heatmap.df2$sig[!((apply(heatmap.df2$contrib > 0 & heatmap.df2$sig != '', 1, sum) >=4 & apply(heatmap.df2$contrib < 0 & heatmap.df2$sig != '', 1, sum) == 0)\n",
    "|(apply(heatmap.df2$contrib < 0 & heatmap.df2$sig != '', 1, sum) >=4 & apply(heatmap.df2$contrib > 0 & heatmap.df2$sig != '', 1, sum) == 0)) ,]\n",
    "\n",
    "\n",
    "\n",
    "heatmap.df4$contrib <- heatmap.df4$contrib[with(data.frame(heatmap.df4$sig == '*'), order(-LMNA.LV,-TTN.LV,-RBM20.LV,-PKP2.LV,-PVneg.LV)),]\n",
    "heatmap.df4$sig <- heatmap.df4$sig[with(data.frame(heatmap.df4$sig == '*'), order(-LMNA.LV,-TTN.LV,-RBM20.LV,-PKP2.LV,-PVneg.LV)),]\n",
    "\n",
    "\n",
    "\n",
    "heatmap.df4$change <- heatmap.df4$contrib\n",
    "heatmap.df4$change[] <- 0\n",
    "heatmap.df4$change[heatmap.df4$contrib > 0 & heatmap.df4$sig != ''] <- 1\n",
    "heatmap.df4$change[heatmap.df4$contrib < 0 & heatmap.df4$sig != ''] <- -1\n",
    "heatmap.df4$sig <- heatmap.df4$sig[order(apply(heatmap.df4$change, 1, sum), decreasing = TRUE),]\n",
    "heatmap.df4$contrib <- heatmap.df4$contrib[order(apply(heatmap.df4$change, 1, sum), decreasing = TRUE),]\n",
    "\n",
    "\n",
    "\n",
    "heatmap.df4$contrib <- heatmap.df4$contrib[order(apply(heatmap.df4$sig == '*', 1, sum)),]\n",
    "heatmap.df4$sig <- heatmap.df4$sig[order(apply(heatmap.df4$sig == '*', 1, sum)),]\n",
    "\n",
    "\n",
    "\n",
    "\n",
    "heatmap.2(t(heatmap.df3$contrib)\n",
    ", col=mypalette\n",
    ", Rowv=NULL\n",
    ", Colv=NULL\n",
    ", dendrogram=\"none\"\n",
    ", na.rm = TRUE\n",
    ", breaks=breaks, density.info=\"none\", trace=\"none\"\n",
    ", symm=F,symkey=F,symbreaks=T, scale=\"none\"\n",
    ", margins = c(5,10)\n",
    ", lhei=c(2,4), lwid=c(1,6)\n",
    ", cellnote = t(heatmap.df3$sig)\n",
    ",notecex=2.0\n",
    ",notecol=\"black\"\n",
    ",keysize=5\n",
    ",cexRow = 2\n",
    "\n",
    ")\n",
    "\n",
    "\n",
    "\n",
    "heatmap.2(t(heatmap.df4$contrib)\n",
    ", col=mypalette\n",
    ", Rowv=NULL\n",
    ", Colv=NULL\n",
    ", dendrogram=\"none\"\n",
    ", na.rm = TRUE\n",
    ", breaks=breaks, density.info=\"none\", trace=\"none\"\n",
    ", symm=F,symkey=F,symbreaks=T, scale=\"none\"\n",
    ", margins = c(5,10)\n",
    ", lhei=c(2,4), lwid=c(1,6)\n",
    ", cellnote = t(heatmap.df4$sig)\n",
    ",notecex=2.0\n",
    ",notecol=\"black\"\n",
    ",keysize=5\n",
    ",cexRow = 2\n",
    ")\n",
    "} else {\n",
    "heatmap.df3 <- heatmap.df2\n",
    "heatmap.df3$contrib <- heatmap.df3$contrib[heatmap.df2$pval < 0.05, ,drop=FALSE]\n",
    "heatmap.df3$pval <- heatmap.df3$pval[heatmap.df2$pval < 0.05, ,drop=FALSE]\n",
    "heatmap.df3$sig <- heatmap.df3$sig[heatmap.df2$pval < 0.05, ,drop=FALSE]\n",
    "\n",
    "heatmap.2(t(cbind(heatmap.df3$contrib, heatmap.df3$contrib))\n",
    ", col=mypalette\n",
    ", Rowv=NULL\n",
    ", Colv=NULL\n",
    ", dendrogram=\"none\"\n",
    ", na.rm = TRUE\n",
    ", breaks=breaks, density.info=\"none\", trace=\"none\"\n",
    ", symm=F,symkey=F,symbreaks=T, scale=\"none\"\n",
    ", margins = c(8,10)\n",
    ", lhei=c(2,4), lwid=c(1,6)\n",
    ", cellnote = t(cbind(heatmap.df3$sig, heatmap.df3$sig))\n",
    ",notecex=2.0\n",
    ",notecol=\"black\"\n",
    ")\n",
    "}\n",
    "\n",
    "dev.off()"
   ]
  },
  {
   "cell_type": "markdown",
   "metadata": {},
   "source": [
    "### All Pathways"
   ]
  },
  {
   "cell_type": "code",
   "execution_count": 23,
   "metadata": {},
   "outputs": [
    {
     "name": "stderr",
     "output_type": "stream",
     "text": [
      "Comparing communications on a merged object \n",
      "\n",
      "\n"
     ]
    }
   ],
   "source": [
    "a=netVisual_bubble_2(cellchat\n",
    ", thresh = 0.05\n",
    ", comparison = c(1, 2)\n",
    ", angle.x = 45\n",
    ",text_size.y=6,pch=20,color.heatmap=\"Spectral\",direction=-1,grid.on=FALSE,line.on=FALSE, color.text.use=FALSE,order=TRUE, return.data=TRUE)\n",
    "\n",
    "write.csv(a$communication,\"All_Pathways_no_abundance.csv\")"
   ]
  },
  {
   "cell_type": "code",
   "execution_count": null,
   "metadata": {},
   "outputs": [],
   "source": []
  }
 ],
 "metadata": {
  "kernelspec": {
   "display_name": "R [conda env:r405_cellchat]",
   "language": "R",
   "name": "conda-env-r405_cellchat-r"
  },
  "language_info": {
   "codemirror_mode": "r",
   "file_extension": ".r",
   "mimetype": "text/x-r-source",
   "name": "R",
   "pygments_lexer": "r",
   "version": "4.0.5"
  }
 },
 "nbformat": 4,
 "nbformat_minor": 2
}
